{
 "cells": [
  {
   "cell_type": "code",
   "execution_count": null,
   "id": "9b99c8d9",
   "metadata": {},
   "outputs": [],
   "source": []
  },
  {
   "cell_type": "code",
   "execution_count": 3,
   "id": "c45e1467",
   "metadata": {},
   "outputs": [],
   "source": [
    "\n",
    "from flask import Flask, abort, Response, request\n",
    "from socket import *\n",
    "\n",
    "app = Flask(__name__)\n",
    "\n",
    "@app.route('/')\n",
    "def initialize():\n",
    "    return \"You can visit /fibonacci with a number to obtain its fibonacci number\"\n",
    "\n",
    "@app.route('/register', methods = [\"PUT\"], endpoint=\"register\")\n",
    "def register():\n",
    "\n",
    "    data = request.json\n",
    "    hostname = data.get('hostname')\n",
    "    ip = data.get('ip')\n",
    "    as_ip = data.get('as_ip')\n",
    "    as_port = data.get('as_port')\n",
    "\n",
    "def dns_register(hostname, ip, as_ip, as_port):\n",
    "    # create UDP socket\n",
    "    sock = socket.socket(socket.AF_INET, socket.SOCK_DGRAM)\n",
    "    # construct DNS message\n",
    "    message = \"TYPE=A\\nNAME={}\\nVALUE={}\\nTTL=10\\n\".format(hostname, ip)\n",
    "    # send message to Authoritative Server\n",
    "    sock.sendto(message.encode(), (as_ip, as_port))\n",
    "    \n",
    "    response, addr = fibonacciSocket.recvfrom(2048)\n",
    "    print(response.decode())\n",
    "\n",
    "    return Response(\"Registration Finished!\", status=201)\n",
    "\n",
    "@app.route('/fibonacci')\n",
    "def fibonacci():\n",
    "    x = request.args.get('number')\n",
    "    if not x.isdigit():\n",
    "        return jsonify({'error': 'Invalid sequence number'}), 400\n",
    "    x = int(x)\n",
    "    fib = compute_fibonacci(x)\n",
    "    return jsonify({'fibonacci': fib}), 200\n",
    "\n",
    "def compute_fibonacci(n):\n",
    "    if n < 0:\n",
    "        return None\n",
    "    elif n == 0:\n",
    "        return 0\n",
    "    elif n == 1:\n",
    "        return 1\n",
    "    else:\n",
    "        return compute_fibonacci(n-1) + compute_fibonacci(n-2)\n",
    "\n",
    "    "
   ]
  },
  {
   "cell_type": "code",
   "execution_count": null,
   "id": "8d25b1e1",
   "metadata": {},
   "outputs": [],
   "source": []
  }
 ],
 "metadata": {
  "kernelspec": {
   "display_name": "Python 3 (ipykernel)",
   "language": "python",
   "name": "python3"
  },
  "language_info": {
   "codemirror_mode": {
    "name": "ipython",
    "version": 3
   },
   "file_extension": ".py",
   "mimetype": "text/x-python",
   "name": "python",
   "nbconvert_exporter": "python",
   "pygments_lexer": "ipython3",
   "version": "3.8.3"
  }
 },
 "nbformat": 4,
 "nbformat_minor": 5
}
