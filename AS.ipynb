{
 "cells": [
  {
   "cell_type": "code",
   "execution_count": 1,
   "id": "7339d72f",
   "metadata": {},
   "outputs": [
    {
     "ename": "KeyboardInterrupt",
     "evalue": "",
     "output_type": "error",
     "traceback": [
      "\u001b[0;31m---------------------------------------------------------------------------\u001b[0m",
      "\u001b[0;31mKeyboardInterrupt\u001b[0m                         Traceback (most recent call last)",
      "\u001b[0;32m/var/folders/vy/cfxbck9n24vf_56l8vyxt_sw0000gn/T/ipykernel_21611/857500713.py\u001b[0m in \u001b[0;36m<module>\u001b[0;34m\u001b[0m\n\u001b[1;32m     20\u001b[0m \u001b[0;31m# Handle incoming requests\u001b[0m\u001b[0;34m\u001b[0m\u001b[0;34m\u001b[0m\u001b[0;34m\u001b[0m\u001b[0m\n\u001b[1;32m     21\u001b[0m \u001b[0;32mwhile\u001b[0m \u001b[0;32mTrue\u001b[0m\u001b[0;34m:\u001b[0m\u001b[0;34m\u001b[0m\u001b[0;34m\u001b[0m\u001b[0m\n\u001b[0;32m---> 22\u001b[0;31m     \u001b[0mdata\u001b[0m\u001b[0;34m,\u001b[0m \u001b[0maddr\u001b[0m \u001b[0;34m=\u001b[0m \u001b[0msock\u001b[0m\u001b[0;34m.\u001b[0m\u001b[0mrecvfrom\u001b[0m\u001b[0;34m(\u001b[0m\u001b[0;36m1024\u001b[0m\u001b[0;34m)\u001b[0m\u001b[0;34m\u001b[0m\u001b[0;34m\u001b[0m\u001b[0m\n\u001b[0m\u001b[1;32m     23\u001b[0m \u001b[0;34m\u001b[0m\u001b[0m\n\u001b[1;32m     24\u001b[0m     \u001b[0;31m# Parse the request\u001b[0m\u001b[0;34m\u001b[0m\u001b[0;34m\u001b[0m\u001b[0;34m\u001b[0m\u001b[0m\n",
      "\u001b[0;31mKeyboardInterrupt\u001b[0m: "
     ]
    }
   ],
   "source": [
    "import socket\n",
    "import json\n",
    "\n",
    "# Define the database file name\n",
    "DB_FILE = \"dns_database.json\"\n",
    "\n",
    "# Create a UDP socket\n",
    "sock = socket.socket(socket.AF_INET, socket.SOCK_DGRAM)\n",
    "\n",
    "# Bind the socket to port 53533\n",
    "sock.bind(('0.0.0.0', 53533))\n",
    "\n",
    "# Load the database from the file\n",
    "try:\n",
    "    with open(DB_FILE) as f:\n",
    "        database = json.load(f)\n",
    "except FileNotFoundError:\n",
    "    database = {}\n",
    "\n",
    "# Handle incoming requests\n",
    "while True:\n",
    "    data, addr = sock.recvfrom(1024)\n",
    "\n",
    "    # Parse the request\n",
    "    request = data.decode()\n",
    "    request_type, request_name = request.split()\n",
    "\n",
    "    # Handle registration requests\n",
    "    if request_type == \"REGISTER\":\n",
    "        # Parse the request data\n",
    "        request_data = addr[0] + \" \" + request_name\n",
    "        hostname, ip_address = request_name, addr[0]\n",
    "\n",
    "        # Add the record to the database\n",
    "        database[hostname] = ip_address\n",
    "\n",
    "        # Save the database to the file\n",
    "        with open(DB_FILE, \"w\") as f:\n",
    "            json.dump(database, f)\n",
    "\n",
    "        # Send a response with code 201\n",
    "        response = \"201 Created\"\n",
    "        sock.sendto(response.encode(), addr)\n",
    "\n",
    "    # Handle DNS queries\n",
    "    elif request_type == \"QUERY\":\n",
    "        # Check if the record exists in the database\n",
    "        if request_name in database:\n",
    "            # Send a response with the IP address and TTL\n",
    "            ip_address = database[request_name]\n",
    "            response = f\"TYPE=A NAME={request_name}\\nVALUE={ip_address}\\nTTL=10\"\n",
    "            sock.sendto(response.encode(), addr)\n",
    "        else:\n",
    "            # Send a response with code 404\n",
    "            response = \"404 Not Found\"\n",
    "            sock.sendto(response.encode(), addr)\n"
   ]
  },
  {
   "cell_type": "code",
   "execution_count": null,
   "id": "3bc078ad",
   "metadata": {},
   "outputs": [],
   "source": []
  }
 ],
 "metadata": {
  "kernelspec": {
   "display_name": "Python 3 (ipykernel)",
   "language": "python",
   "name": "python3"
  },
  "language_info": {
   "codemirror_mode": {
    "name": "ipython",
    "version": 3
   },
   "file_extension": ".py",
   "mimetype": "text/x-python",
   "name": "python",
   "nbconvert_exporter": "python",
   "pygments_lexer": "ipython3",
   "version": "3.8.3"
  }
 },
 "nbformat": 4,
 "nbformat_minor": 5
}
